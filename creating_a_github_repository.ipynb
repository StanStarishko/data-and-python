{
  "nbformat": 4,
  "nbformat_minor": 0,
  "metadata": {
    "colab": {
      "provenance": [],
      "authorship_tag": "ABX9TyNvY1+rBeEUyf54HhaMG3PN",
      "include_colab_link": true
    },
    "kernelspec": {
      "name": "python3",
      "display_name": "Python 3"
    },
    "language_info": {
      "name": "python"
    }
  },
  "cells": [
    {
      "cell_type": "markdown",
      "metadata": {
        "id": "view-in-github",
        "colab_type": "text"
      },
      "source": [
        "<a href=\"https://colab.research.google.com/github/StanStarishko/data-and-python/blob/main/creating_a_github_repository.ipynb\" target=\"_parent\"><img src=\"https://colab.research.google.com/assets/colab-badge.svg\" alt=\"Open In Colab\"/></a>"
      ]
    },
    {
      "cell_type": "code",
      "execution_count": 1,
      "metadata": {
        "colab": {
          "base_uri": "https://localhost:8080/"
        },
        "id": "9VXD6hwDMuqW",
        "outputId": "6e9a752a-29d2-49e3-ac50-f52b4710206f"
      },
      "outputs": [
        {
          "output_type": "stream",
          "name": "stdout",
          "text": [
            "Testing the code cell\n"
          ]
        }
      ],
      "source": [
        "# print a message on the screen to test editing and running a python function in a code cell then change the message to answer the question - Was this worksheet helpful?\n",
        "\n",
        "def show_message(message_text):\n",
        "  print(message_text)\n",
        "\n",
        "show_message(\"Testing the code cell\")"
      ]
    }
  ]
}